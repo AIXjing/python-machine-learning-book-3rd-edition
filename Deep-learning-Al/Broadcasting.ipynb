{
 "cells": [
  {
   "cell_type": "code",
   "execution_count": 3,
   "id": "4c05a85e",
   "metadata": {},
   "outputs": [
    {
     "ename": "ValueError",
     "evalue": "operands could not be broadcast together with shapes (3,3) (2,1) ",
     "output_type": "error",
     "traceback": [
      "\u001b[0;31m---------------------------------------------------------------------------\u001b[0m",
      "\u001b[0;31mValueError\u001b[0m                                Traceback (most recent call last)",
      "Input \u001b[0;32mIn [3]\u001b[0m, in \u001b[0;36m<module>\u001b[0;34m\u001b[0m\n\u001b[1;32m      3\u001b[0m a\u001b[38;5;241m=\u001b[39mnp\u001b[38;5;241m.\u001b[39mrandom\u001b[38;5;241m.\u001b[39mrandn(\u001b[38;5;241m3\u001b[39m,\u001b[38;5;241m3\u001b[39m) \u001b[38;5;66;03m# a.shape = (3, 3)a.shape=(3,3)\u001b[39;00m\n\u001b[1;32m      5\u001b[0m b\u001b[38;5;241m=\u001b[39mnp\u001b[38;5;241m.\u001b[39mrandom\u001b[38;5;241m.\u001b[39mrandn(\u001b[38;5;241m2\u001b[39m,\u001b[38;5;241m1\u001b[39m) \u001b[38;5;66;03m#  b.shape = (2, 1)b.shape=(2,1)\u001b[39;00m\n\u001b[0;32m----> 7\u001b[0m c \u001b[38;5;241m=\u001b[39m \u001b[43ma\u001b[49m\u001b[43m \u001b[49m\u001b[38;5;241;43m+\u001b[39;49m\u001b[43m \u001b[49m\u001b[43mb\u001b[49m\n",
      "\u001b[0;31mValueError\u001b[0m: operands could not be broadcast together with shapes (3,3) (2,1) "
     ]
    }
   ],
   "source": [
    "import numpy as np\n",
    "\n",
    "a=np.random.randn(3,3) # a.shape = (3, 3)a.shape=(3,3)\n",
    "\n",
    "b=np.random.randn(2,1) #  b.shape = (2, 1)b.shape=(2,1)\n",
    "\n",
    "c = a + b"
   ]
  },
  {
   "cell_type": "code",
   "execution_count": 6,
   "id": "e61940b0",
   "metadata": {},
   "outputs": [
    {
     "name": "stdout",
     "output_type": "stream",
     "text": [
      "a:  [[ 0.06595392 -1.7984665   0.84151778]\n",
      " [ 2.22904668 -0.20626345 -1.73003425]\n",
      " [-0.48563321 -0.58055589 -0.19225134]\n",
      " [-0.30093734  0.23323286  0.06404683]]\n",
      "b:  [[0.2083579  0.52286792 0.38004608]]\n",
      "c:  [[ 0.01374202 -0.94036044  0.31981553]\n",
      " [ 0.46443948 -0.10784854 -0.65749274]\n",
      " [-0.10118551 -0.30355405 -0.07306437]\n",
      " [-0.06270267  0.12194998  0.02434075]]\n"
     ]
    }
   ],
   "source": [
    "a=np.random.randn(4,3) # a.shape = (3, 3)a.shape=(3,3)\n",
    "print(\"a: \", a)\n",
    "b=np.random.randn(1,3) #  b.shape = (2, 1)b.shape=(2,1)\n",
    "print(\"b: \", b)\n",
    "c = a * b\n",
    "print(\"c: \", c)"
   ]
  },
  {
   "cell_type": "code",
   "execution_count": 7,
   "id": "ac8d4292",
   "metadata": {},
   "outputs": [
    {
     "data": {
      "text/plain": [
       "array([[4, 1],\n",
       "       [1, 9]])"
      ]
     },
     "execution_count": 7,
     "metadata": {},
     "output_type": "execute_result"
    }
   ],
   "source": [
    "a = np.array([[2,1],[1,3]])\n",
    "a*a"
   ]
  },
  {
   "cell_type": "code",
   "execution_count": null,
   "id": "ee079736",
   "metadata": {},
   "outputs": [],
   "source": []
  }
 ],
 "metadata": {
  "kernelspec": {
   "display_name": "Python 3 (ipykernel)",
   "language": "python",
   "name": "python3"
  },
  "language_info": {
   "codemirror_mode": {
    "name": "ipython",
    "version": 3
   },
   "file_extension": ".py",
   "mimetype": "text/x-python",
   "name": "python",
   "nbconvert_exporter": "python",
   "pygments_lexer": "ipython3",
   "version": "3.8.9"
  }
 },
 "nbformat": 4,
 "nbformat_minor": 5
}
