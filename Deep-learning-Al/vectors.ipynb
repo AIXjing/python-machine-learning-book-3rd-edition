{
 "cells": [
  {
   "cell_type": "markdown",
   "id": "56718161",
   "metadata": {},
   "source": [
    "This is an exercise notebook to get familiar with numpy, following the course \"Neural Networks and Deep Learning\" on [coursera](https://www.coursera.org/learn/neural-networks-deep-learning/home/welcome)."
   ]
  },
  {
   "cell_type": "markdown",
   "id": "72c95015",
   "metadata": {},
   "source": [
    "### 1. Numpy generates 1D array\n",
    "\n",
    "also called rank 1 array"
   ]
  },
  {
   "cell_type": "code",
   "execution_count": 1,
   "id": "51aa5e3c",
   "metadata": {},
   "outputs": [
    {
     "name": "stdout",
     "output_type": "stream",
     "text": [
      "[-0.37592337 -0.43339369  1.76635435  0.95888308 -0.50306065]\n",
      "(5,)\n"
     ]
    }
   ],
   "source": [
    "import numpy as np\n",
    "\n",
    "a = np.random.randn(5)\n",
    "print(a)\n",
    "print(a.shape)"
   ]
  },
  {
   "cell_type": "code",
   "execution_count": 2,
   "id": "de07cb12",
   "metadata": {},
   "outputs": [
    {
     "name": "stdout",
     "output_type": "stream",
     "text": [
      "[-1.00241989 -1.08260619 -1.56788542 -0.55195003 -0.50699826]\n",
      "5.196842557422108\n"
     ]
    }
   ],
   "source": [
    "print(a.T)\n",
    "print(np.dot(a,a.T))"
   ]
  },
  {
   "cell_type": "markdown",
   "id": "781aa3d4",
   "metadata": {},
   "source": [
    "Above shows that `np.random.randn(5)` generates 1D array. \n",
    "\n",
    "Note that the output only has one bracket."
   ]
  },
  {
   "cell_type": "code",
   "execution_count": 9,
   "id": "3a4ed074",
   "metadata": {},
   "outputs": [
    {
     "data": {
      "text/plain": [
       "array([[-1.00241989, -1.08260619, -1.56788542, -0.55195003, -0.50699826]])"
      ]
     },
     "execution_count": 9,
     "metadata": {},
     "output_type": "execute_result"
    }
   ],
   "source": [
    "a.reshape(1,5)"
   ]
  },
  {
   "cell_type": "markdown",
   "id": "014f1254",
   "metadata": {},
   "source": [
    "### 2. Numpy generates 2D array"
   ]
  },
  {
   "cell_type": "code",
   "execution_count": 4,
   "id": "13f4e831",
   "metadata": {},
   "outputs": [
    {
     "data": {
      "text/plain": [
       "array([[-0.43069887, -1.3277467 , -0.75176536, -0.3500037 , -0.77488793]])"
      ]
     },
     "execution_count": 4,
     "metadata": {},
     "output_type": "execute_result"
    }
   ],
   "source": [
    "b = np.random.randn(1,5)\n",
    "b"
   ]
  },
  {
   "cell_type": "markdown",
   "id": "0b09903d",
   "metadata": {},
   "source": [
    "Generate a 1x5 vector with two brackets."
   ]
  },
  {
   "cell_type": "code",
   "execution_count": 5,
   "id": "54d58679",
   "metadata": {},
   "outputs": [
    {
     "name": "stdout",
     "output_type": "stream",
     "text": [
      "(1, 5)\n",
      "[[-0.43069887]\n",
      " [-1.3277467 ]\n",
      " [-0.75176536]\n",
      " [-0.3500037 ]\n",
      " [-0.77488793]]\n"
     ]
    }
   ],
   "source": [
    "print(b.shape)\n",
    "print(b.T)"
   ]
  },
  {
   "cell_type": "code",
   "execution_count": 7,
   "id": "0f0ad5a8",
   "metadata": {},
   "outputs": [
    {
     "name": "stdout",
     "output_type": "stream",
     "text": [
      "[[3.23651787]]\n",
      "[[0.18550152 0.571859   0.32378449 0.1507462  0.33374336]\n",
      " [0.571859   1.7629113  0.99815397 0.46471626 1.0288549 ]\n",
      " [0.32378449 0.99815397 0.56515115 0.26312066 0.58253391]\n",
      " [0.1507462  0.46471626 0.26312066 0.12250259 0.27121365]\n",
      " [0.33374336 1.0288549  0.58253391 0.27121365 0.60045131]]\n"
     ]
    }
   ],
   "source": [
    "print(np.dot(b,b.T)) # row vector x column vector -> a number\n",
    "print(np.dot(b.T,b)) # column vector x row vector -> matrix (5x5)"
   ]
  },
  {
   "cell_type": "code",
   "execution_count": 3,
   "id": "a5b7bfa3",
   "metadata": {},
   "outputs": [
    {
     "name": "stdout",
     "output_type": "stream",
     "text": [
      "[[[1]\n",
      "  [2]]\n",
      "\n",
      " [[3]\n",
      "  [4]]]\n",
      "(2, 2, 1)\n"
     ]
    }
   ],
   "source": [
    "x=np.array([[[1],[2]],[[3],[4]]])\n",
    "print(x)\n",
    "print(x.shape)"
   ]
  },
  {
   "cell_type": "code",
   "execution_count": 5,
   "id": "9db237b3",
   "metadata": {},
   "outputs": [
    {
     "name": "stdout",
     "output_type": "stream",
     "text": [
      "[[-0.60720127  0.74287072 -0.59497666]\n",
      " [-1.38340971  0.19803342  0.12986393]\n",
      " [-0.88266485  0.00473806 -0.0882346 ]\n",
      " [ 0.03627723  0.37090075 -0.27854052]]\n",
      "[[-0.62314518 -0.61885825]\n",
      " [-1.42099207  0.92611359]\n",
      " [-0.87150679 -1.06509258]]\n"
     ]
    },
    {
     "ename": "ValueError",
     "evalue": "operands could not be broadcast together with shapes (4,3) (3,2) ",
     "output_type": "error",
     "traceback": [
      "\u001b[0;31m---------------------------------------------------------------------------\u001b[0m",
      "\u001b[0;31mValueError\u001b[0m                                Traceback (most recent call last)",
      "Input \u001b[0;32mIn [5]\u001b[0m, in \u001b[0;36m<module>\u001b[0;34m\u001b[0m\n\u001b[1;32m      3\u001b[0m b \u001b[38;5;241m=\u001b[39m np\u001b[38;5;241m.\u001b[39mrandom\u001b[38;5;241m.\u001b[39mrandn(\u001b[38;5;241m3\u001b[39m,\u001b[38;5;241m2\u001b[39m)\n\u001b[1;32m      4\u001b[0m \u001b[38;5;28mprint\u001b[39m(b)\n\u001b[0;32m----> 5\u001b[0m c \u001b[38;5;241m=\u001b[39m \u001b[43ma\u001b[49m\u001b[43m \u001b[49m\u001b[38;5;241;43m*\u001b[39;49m\u001b[43m \u001b[49m\u001b[43mb\u001b[49m\n\u001b[1;32m      6\u001b[0m \u001b[38;5;28mprint\u001b[39m(c)\n",
      "\u001b[0;31mValueError\u001b[0m: operands could not be broadcast together with shapes (4,3) (3,2) "
     ]
    }
   ],
   "source": [
    "a = np.random.randn(4,3)\n",
    "print(a)\n",
    "b = np.random.randn(3,2)\n",
    "print(b)\n",
    "c = a * b\n",
    "print(c)"
   ]
  },
  {
   "cell_type": "code",
   "execution_count": 6,
   "id": "62b1127b",
   "metadata": {},
   "outputs": [
    {
     "data": {
      "text/plain": [
       "array([[2, 1],\n",
       "       [1, 3]])"
      ]
     },
     "execution_count": 6,
     "metadata": {},
     "output_type": "execute_result"
    }
   ],
   "source": [
    "a=np.array([[2,1],[1,3]])\n",
    "a"
   ]
  },
  {
   "cell_type": "code",
   "execution_count": 7,
   "id": "667b26c0",
   "metadata": {},
   "outputs": [
    {
     "data": {
      "text/plain": [
       "array([[4, 1],\n",
       "       [1, 9]])"
      ]
     },
     "execution_count": 7,
     "metadata": {},
     "output_type": "execute_result"
    }
   ],
   "source": [
    "a*a"
   ]
  },
  {
   "cell_type": "code",
   "execution_count": 9,
   "id": "153c72ce",
   "metadata": {},
   "outputs": [
    {
     "name": "stdout",
     "output_type": "stream",
     "text": [
      "a:  [[ 0.29167681 -1.46817472  0.98655712  0.27485644]\n",
      " [ 0.35813651  0.19186438 -0.41402889  0.05826587]\n",
      " [ 0.47201947  0.58598561 -0.08648238 -1.32827508]]\n",
      "b:  [[-0.12299482]\n",
      " [-0.93906154]\n",
      " [ 1.12600681]\n",
      " [ 0.52610002]]\n"
     ]
    },
    {
     "ename": "IndexError",
     "evalue": "list index out of range",
     "output_type": "error",
     "traceback": [
      "\u001b[0;31m---------------------------------------------------------------------------\u001b[0m",
      "\u001b[0;31mIndexError\u001b[0m                                Traceback (most recent call last)",
      "Input \u001b[0;32mIn [9]\u001b[0m, in \u001b[0;36m<module>\u001b[0;34m\u001b[0m\n\u001b[1;32m     10\u001b[0m \u001b[38;5;28;01mfor\u001b[39;00m i \u001b[38;5;129;01min\u001b[39;00m \u001b[38;5;28mrange\u001b[39m(\u001b[38;5;241m3\u001b[39m):\n\u001b[1;32m     11\u001b[0m     \u001b[38;5;28;01mfor\u001b[39;00m j \u001b[38;5;129;01min\u001b[39;00m \u001b[38;5;28mrange\u001b[39m(\u001b[38;5;241m4\u001b[39m):\n\u001b[0;32m---> 12\u001b[0m         \u001b[43mc\u001b[49m\u001b[43m[\u001b[49m\u001b[43mi\u001b[49m\u001b[43m]\u001b[49m[j] \u001b[38;5;241m=\u001b[39m a[j][i] \u001b[38;5;241m+\u001b[39m b[j]\n\u001b[1;32m     13\u001b[0m \u001b[38;5;28mprint\u001b[39m(c)\n",
      "\u001b[0;31mIndexError\u001b[0m: list index out of range"
     ]
    }
   ],
   "source": [
    "#a.shape=(3,4)\n",
    "a = np.random.randn(3,4)\n",
    "print(\"a: \", a)\n",
    "#b.shape = (4, 1)\n",
    "b = np.random.randn(4,1)\n",
    "print(\"b: \", b)\n",
    "\n",
    "c =[]\n",
    "\n",
    "for i in range(3):\n",
    "    for j in range(4):\n",
    "        c[i][j] = a[j][i] + b[j]\n",
    "print(c)"
   ]
  },
  {
   "cell_type": "code",
   "execution_count": null,
   "id": "a5e30953",
   "metadata": {},
   "outputs": [],
   "source": []
  },
  {
   "cell_type": "code",
   "execution_count": null,
   "id": "82997bd0",
   "metadata": {},
   "outputs": [],
   "source": []
  }
 ],
 "metadata": {
  "kernelspec": {
   "display_name": "Python 3 (ipykernel)",
   "language": "python",
   "name": "python3"
  },
  "language_info": {
   "codemirror_mode": {
    "name": "ipython",
    "version": 3
   },
   "file_extension": ".py",
   "mimetype": "text/x-python",
   "name": "python",
   "nbconvert_exporter": "python",
   "pygments_lexer": "ipython3",
   "version": "3.8.9"
  }
 },
 "nbformat": 4,
 "nbformat_minor": 5
}
